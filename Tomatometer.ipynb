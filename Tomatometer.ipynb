{
 "cells": [
  {
   "cell_type": "markdown",
   "id": "ff36a3bc-cc41-44b9-a1a1-cb67ab2c2cd0",
   "metadata": {},
   "source": [
    "# Tomatometer PySpark"
   ]
  },
  {
   "cell_type": "code",
   "execution_count": 2,
   "id": "6ac0ac21-d48d-4a48-a05b-bef625f753b6",
   "metadata": {},
   "outputs": [],
   "source": [
    "from pyspark.sql import SparkSession\n",
    "import pyspark.sql.functions as F\n",
    "from pyspark.sql.types import DecimalType\n",
    "\n",
    "# Initialize a SparkSession\n",
    "spark = SparkSession.builder.appName('Avocado').getOrCreate()"
   ]
  },
  {
   "cell_type": "markdown",
   "id": "da000e18-e4ac-45dc-9b61-4feb851e9039",
   "metadata": {},
   "source": [
    "# Ingest & Access"
   ]
  },
  {
   "cell_type": "code",
   "execution_count": 4,
   "id": "d98fff0b-7361-4784-8963-8ebd7d5f3825",
   "metadata": {},
   "outputs": [
    {
     "name": "stdout",
     "output_type": "stream",
     "text": [
      "+--------------------+--------------------+-------------+-----------+------+--------------------+-------------------+--------------------+--------------+--------------------+----------------+--------------------+--------------------+---------+-----------+--------+\n",
      "|                  id|               title|audienceScore|tomatoMeter|rating|      ratingContents|releaseDateTheaters|releaseDateStreaming|runtimeMinutes|               genre|originalLanguage|            director|              writer|boxOffice|distributor|soundMix|\n",
      "+--------------------+--------------------+-------------+-----------+------+--------------------+-------------------+--------------------+--------------+--------------------+----------------+--------------------+--------------------+---------+-----------+--------+\n",
      "|  space-zombie-bingo| Space Zombie Bingo!|           50|       NULL|  NULL|                NULL|               NULL|          2018-08-25|            75|Comedy, Horror, S...|         English|       George Ormrod|George Ormrod,Joh...|     NULL|       NULL|    NULL|\n",
      "|     the_green_grass|     The Green Grass|         NULL|       NULL|  NULL|                NULL|               NULL|          2020-02-11|           114|               Drama|         English|     Tiffany Edwards|     Tiffany Edwards|     NULL|       NULL|    NULL|\n",
      "|           love_lies|          Love, Lies|           43|       NULL|  NULL|                NULL|               NULL|                NULL|           120|               Drama|          Korean|Park Heung-Sik,He...|Ha Young-Joon,Jeo...|     NULL|       NULL|    NULL|\n",
      "|the_sore_losers_1997|         Sore Losers|           60|       NULL|  NULL|                NULL|               NULL|          2020-10-23|            90|Action, Mystery &...|         English|John Michael McCa...|John Michael McCa...|     NULL|       NULL|    NULL|\n",
      "|dinosaur_island_2002|     Dinosaur Island|           70|       NULL|  NULL|                NULL|               NULL|          2017-03-27|            80|Fantasy, Adventur...|         English|       Will Meugniot|            John Loy|     NULL|       NULL|    NULL|\n",
      "|         adrift_2018|              Adrift|           65|         69| PG-13|['Injury Images',...|         2018-06-01|          2018-08-21|           120|Adventure, Drama,...|         English|   Baltasar Kormákur|Aaron Kandell,Jor...|   $31.4M|  STX Films|    NULL|\n",
      "|malta-con-huevo-s...|      Scrambled Beer|           55|       NULL|  NULL|                NULL|               NULL|          2015-10-05|            88|              Comedy|         Spanish|Cristobal Valderrama|Cristobal Valderrama|     NULL|       NULL|    NULL|\n",
      "|    kakabakaba-ka-ba|Kakabakaba ka ba?...|           88|       NULL|  NULL|                NULL|               NULL|                NULL|          NULL|                NULL|            NULL|        Mike de Leon|                NULL|     NULL|       NULL|    NULL|\n",
      "|          sundowning|          Sundowning|         NULL|       NULL|  NULL|                NULL|               NULL|                NULL|           123|               Drama|         English|      Jim Comas Cole|                NULL|     NULL|       NULL|    NULL|\n",
      "|1035316-born_to_kill|        Born to Kill|           74|         83|  NULL|                NULL|         1947-04-30|          2016-05-23|            92|        Crime, Drama|         English|         Robert Wise|Eve Greene,Richar...|     NULL|       NULL|    NULL|\n",
      "+--------------------+--------------------+-------------+-----------+------+--------------------+-------------------+--------------------+--------------+--------------------+----------------+--------------------+--------------------+---------+-----------+--------+\n",
      "\n"
     ]
    }
   ],
   "source": [
    "# Ingest the dataset\n",
    "df = spark.read.csv('./data/rotten_tomatoes_movies.csv', header=True, inferSchema=True)\n",
    "df.limit(10).show()"
   ]
  },
  {
   "cell_type": "code",
   "execution_count": 8,
   "id": "0060fac2-3aee-4fae-9435-9594da292370",
   "metadata": {},
   "outputs": [
    {
     "data": {
      "text/plain": [
       "143258"
      ]
     },
     "execution_count": 8,
     "metadata": {},
     "output_type": "execute_result"
    }
   ],
   "source": [
    "num_rows = df.count()\n",
    "num_rows"
   ]
  },
  {
   "cell_type": "markdown",
   "id": "4b132800-1546-45f1-80b3-1bfe21aab9db",
   "metadata": {},
   "source": [
    "# Cleaning\n",
    "\n",
    "Missing Values: Check for missing values in the audienceScore, tomatoMeter, and releaseDateTheaters columns. Handle them by removing rows with a null value in either of these columns.\n"
   ]
  },
  {
   "cell_type": "code",
   "execution_count": 11,
   "id": "2d1d6434-981a-4388-ac4f-603d322c1c58",
   "metadata": {},
   "outputs": [
    {
     "data": {
      "text/plain": [
       "70010"
      ]
     },
     "execution_count": 11,
     "metadata": {},
     "output_type": "execute_result"
    }
   ],
   "source": [
    "df.filter(F.col('audienceScore').isNull()).count()"
   ]
  },
  {
   "cell_type": "code",
   "execution_count": 12,
   "id": "b8f74aba-58e9-47ee-9b35-316048f942a9",
   "metadata": {},
   "outputs": [
    {
     "data": {
      "text/plain": [
       "18807"
      ]
     },
     "execution_count": 12,
     "metadata": {},
     "output_type": "execute_result"
    }
   ],
   "source": [
    "dropped_rows = df.na.drop(subset=['audienceScore', 'tomatoMeter','releaseDateTheaters']).count()\n",
    "dropped_rows"
   ]
  },
  {
   "cell_type": "code",
   "execution_count": 13,
   "id": "33538fc0-acb1-48c7-ac0f-171bdf0a0516",
   "metadata": {},
   "outputs": [
    {
     "data": {
      "text/plain": [
       "0.8687193734381327"
      ]
     },
     "execution_count": 13,
     "metadata": {},
     "output_type": "execute_result"
    }
   ],
   "source": [
    "percent_dropped = 1 - (dropped_rows/num_rows)\n",
    "percent_dropped"
   ]
  },
  {
   "cell_type": "markdown",
   "id": "42956d9f-e1d2-41d6-be5c-9f0c16bf28c0",
   "metadata": {},
   "source": [
    "**Dropping all the nulls from the columns audienceScore, tomatoMeter, and releaseDateTheaters drops 86.9% of the data. This is not good practice, but we will proceed following the instructions.**"
   ]
  },
  {
   "cell_type": "code",
   "execution_count": 14,
   "id": "1904cf3f-e365-45cd-b1cc-73eb3ff2c4e8",
   "metadata": {},
   "outputs": [],
   "source": [
    "df_clean = df.na.drop(subset=['audienceScore', 'tomatoMeter','releaseDateTheaters'])"
   ]
  },
  {
   "cell_type": "code",
   "execution_count": 15,
   "id": "b4801e75-ad69-4edd-a17f-255318356a21",
   "metadata": {},
   "outputs": [
    {
     "name": "stdout",
     "output_type": "stream",
     "text": [
      "+--------------------+--------------------+-------------+-----------+------+--------------------+-------------------+--------------------+--------------+--------------------+----------------+--------------------+--------------------+---------+-------------------+--------+\n",
      "|                  id|               title|audienceScore|tomatoMeter|rating|      ratingContents|releaseDateTheaters|releaseDateStreaming|runtimeMinutes|               genre|originalLanguage|            director|              writer|boxOffice|        distributor|soundMix|\n",
      "+--------------------+--------------------+-------------+-----------+------+--------------------+-------------------+--------------------+--------------+--------------------+----------------+--------------------+--------------------+---------+-------------------+--------+\n",
      "|         adrift_2018|              Adrift|           65|         69| PG-13|['Injury Images',...|         2018-06-01|          2018-08-21|           120|Adventure, Drama,...|         English|   Baltasar Kormákur|Aaron Kandell,Jor...|   $31.4M|          STX Films|    NULL|\n",
      "|1035316-born_to_kill|        Born to Kill|           74|         83|  NULL|                NULL|         1947-04-30|          2016-05-23|            92|        Crime, Drama|         English|         Robert Wise|Eve Greene,Richar...|     NULL|               NULL|    NULL|\n",
      "|         1221483-paa|                 Paa|           67|         50|  NULL|                NULL|         2009-12-04|                NULL|           133|               Drama|           Hindi|            R. Balki|            R. Balki|  $199.2K|       Big Pictures|    NULL|\n",
      "|sarah_palin_you_b...|Sarah Palin: You ...|           61|         32|  NULL|                NULL|         2011-09-30|          2017-03-08|            90|         Documentary|         English|Nick Broomfield,J...|                NULL|   $10.5K|Freestyle Releasing|    NULL|\n",
      "|a_state_of_mind_2005|     A State of Mind|           92|         89|  NULL|                NULL|         2005-08-10|          2007-06-11|            93|         Documentary|          Korean|       Daniel Gordon|                NULL|   $41.5K|      Kino Pictures|    NULL|\n",
      "+--------------------+--------------------+-------------+-----------+------+--------------------+-------------------+--------------------+--------------+--------------------+----------------+--------------------+--------------------+---------+-------------------+--------+\n",
      "\n"
     ]
    }
   ],
   "source": [
    "df_clean.limit(5).show()"
   ]
  },
  {
   "cell_type": "markdown",
   "id": "8e81aed0-5751-4183-bfe9-d7660b002678",
   "metadata": {},
   "source": [
    "# Processing\n",
    "\n",
    "**Year**: Create a year column by parsing the year from the releaseDateTheaters column.\n",
    "\n",
    "**Top Movies**: Find the top 500 movies based on Tomatometer score using functions like orderBy and limit."
   ]
  },
  {
   "cell_type": "code",
   "execution_count": 16,
   "id": "d22f1a28-204e-4660-95f3-3c30a08508a9",
   "metadata": {},
   "outputs": [
    {
     "name": "stdout",
     "output_type": "stream",
     "text": [
      "root\n",
      " |-- id: string (nullable = true)\n",
      " |-- title: string (nullable = true)\n",
      " |-- audienceScore: integer (nullable = true)\n",
      " |-- tomatoMeter: integer (nullable = true)\n",
      " |-- rating: string (nullable = true)\n",
      " |-- ratingContents: string (nullable = true)\n",
      " |-- releaseDateTheaters: date (nullable = true)\n",
      " |-- releaseDateStreaming: string (nullable = true)\n",
      " |-- runtimeMinutes: integer (nullable = true)\n",
      " |-- genre: string (nullable = true)\n",
      " |-- originalLanguage: string (nullable = true)\n",
      " |-- director: string (nullable = true)\n",
      " |-- writer: string (nullable = true)\n",
      " |-- boxOffice: string (nullable = true)\n",
      " |-- distributor: string (nullable = true)\n",
      " |-- soundMix: string (nullable = true)\n",
      "\n"
     ]
    }
   ],
   "source": [
    "df_clean.printSchema()"
   ]
  },
  {
   "cell_type": "code",
   "execution_count": 22,
   "id": "add925ea-ef95-4f91-8dde-030312a5891a",
   "metadata": {},
   "outputs": [],
   "source": [
    "df_clean = df_clean.withColumn('Year', F.year(F.col('releaseDateTheaters')))"
   ]
  },
  {
   "cell_type": "code",
   "execution_count": 28,
   "id": "b7cc35b1-2d39-432d-bf0f-9a02a6e6ce55",
   "metadata": {},
   "outputs": [
    {
     "name": "stdout",
     "output_type": "stream",
     "text": [
      "+-------------------+----+\n",
      "|releaseDateTheaters|Year|\n",
      "+-------------------+----+\n",
      "|         2018-06-01|2018|\n",
      "|         1947-04-30|1947|\n",
      "|         2009-12-04|2009|\n",
      "|         2011-09-30|2011|\n",
      "|         2005-08-10|2005|\n",
      "+-------------------+----+\n",
      "\n"
     ]
    }
   ],
   "source": [
    "df_clean.select('releaseDateTheaters', 'Year').limit(5).show()"
   ]
  },
  {
   "cell_type": "code",
   "execution_count": 54,
   "id": "50dcec65-60d7-444c-8014-1608729198d8",
   "metadata": {},
   "outputs": [],
   "source": [
    "df_sorted = df_clean"
   ]
  },
  {
   "cell_type": "code",
   "execution_count": 55,
   "id": "02d10e5b-8d4f-4768-b017-1c6fa4e4b935",
   "metadata": {},
   "outputs": [],
   "source": [
    "df_sorted = df_sorted.orderBy('tomatoMeter', ascending=False)"
   ]
  },
  {
   "cell_type": "code",
   "execution_count": 56,
   "id": "ec43f2e5-9738-41b9-a38c-9e4cfb38e4a3",
   "metadata": {},
   "outputs": [
    {
     "name": "stdout",
     "output_type": "stream",
     "text": [
      "+--------------------+--------------------+-------------+-----------+------+--------------------+-------------------+--------------------+--------------+--------------------+----------------+--------------+--------------------+---------+--------------------+--------+----+\n",
      "|                  id|               title|audienceScore|tomatoMeter|rating|      ratingContents|releaseDateTheaters|releaseDateStreaming|runtimeMinutes|               genre|originalLanguage|      director|              writer|boxOffice|         distributor|soundMix|Year|\n",
      "+--------------------+--------------------+-------------+-----------+------+--------------------+-------------------+--------------------+--------------+--------------------+----------------+--------------+--------------------+---------+--------------------+--------+----+\n",
      "|     night_owls_2015|          Night Owls|           56|        100|     R|['Brief Nudity', ...|         2015-12-04|          2016-12-07|            91|     Romance, Comedy|         English|  Charles Hood|Seth Goldsmith,Ch...|     NULL|     Orion Releasing|    NULL|2015|\n",
      "|  1043525-lost_world|      The Lost World|           69|        100|  NULL|                NULL|         1925-06-22|          2001-04-03|           106|Sci-fi, Adventure...|            NULL| Harry O. Hoyt|Arthur Conan Doyl...|     NULL|Milestone Film & ...|    NULL|1925|\n",
      "|   10008259-festival|            Festival|           70|        100|  NULL|                NULL|         1967-10-23|          2007-01-30|            80|         Documentary|         English| Murray Lerner|                NULL|     NULL|                NULL|    NULL|1967|\n",
      "|the-alps-imax-cli...|            The Alps|           74|        100|  NULL|                NULL|         2007-03-30|          2008-10-14|            44|         Documentary|         English|Stephen Judson|Stephen Judson,St...|     NULL|MacGillivray Free...|    NULL|2007|\n",
      "|1009224-harder_th...|The Harder They Fall|           80|        100|  NULL|                NULL|         1956-05-09|          2012-04-16|           109|               Drama|         English|   Mark Robson|Budd Schulberg,Ph...|     NULL|Columbia TriStar ...|    Mono|1956|\n",
      "+--------------------+--------------------+-------------+-----------+------+--------------------+-------------------+--------------------+--------------+--------------------+----------------+--------------+--------------------+---------+--------------------+--------+----+\n",
      "only showing top 5 rows\n",
      "\n"
     ]
    }
   ],
   "source": [
    "df_sorted.show(5)"
   ]
  },
  {
   "cell_type": "code",
   "execution_count": 57,
   "id": "e35b75dd-afa6-4a66-ad2a-73b809870820",
   "metadata": {},
   "outputs": [],
   "source": [
    "df_sorted = df_sorted.limit(5000)"
   ]
  },
  {
   "cell_type": "code",
   "execution_count": 58,
   "id": "2f4c60da-8cdf-4344-96dd-4d15cc237411",
   "metadata": {},
   "outputs": [
    {
     "name": "stdout",
     "output_type": "stream",
     "text": [
      "root\n",
      " |-- id: string (nullable = true)\n",
      " |-- title: string (nullable = true)\n",
      " |-- audienceScore: integer (nullable = true)\n",
      " |-- tomatoMeter: integer (nullable = true)\n",
      " |-- rating: string (nullable = true)\n",
      " |-- ratingContents: string (nullable = true)\n",
      " |-- releaseDateTheaters: date (nullable = true)\n",
      " |-- releaseDateStreaming: string (nullable = true)\n",
      " |-- runtimeMinutes: integer (nullable = true)\n",
      " |-- genre: string (nullable = true)\n",
      " |-- originalLanguage: string (nullable = true)\n",
      " |-- director: string (nullable = true)\n",
      " |-- writer: string (nullable = true)\n",
      " |-- boxOffice: string (nullable = true)\n",
      " |-- distributor: string (nullable = true)\n",
      " |-- soundMix: string (nullable = true)\n",
      " |-- Year: integer (nullable = true)\n",
      "\n"
     ]
    }
   ],
   "source": [
    "df_sorted.printSchema()"
   ]
  },
  {
   "cell_type": "code",
   "execution_count": 59,
   "id": "d0c5cc9c-4f79-4bf6-afb6-5873d0d8f07f",
   "metadata": {},
   "outputs": [
    {
     "data": {
      "text/plain": [
       "5000"
      ]
     },
     "execution_count": 59,
     "metadata": {},
     "output_type": "execute_result"
    }
   ],
   "source": [
    "df_sorted.count()"
   ]
  },
  {
   "cell_type": "code",
   "execution_count": 60,
   "id": "695f168d-7c64-451a-8c03-cddb330ca75c",
   "metadata": {},
   "outputs": [],
   "source": [
    "df_sorted.write.parquet('fixed_final_df.parquet')"
   ]
  },
  {
   "cell_type": "code",
   "execution_count": null,
   "id": "3d77cec8-df77-4012-9b9e-1aea5ed4efa4",
   "metadata": {},
   "outputs": [],
   "source": []
  }
 ],
 "metadata": {
  "kernelspec": {
   "display_name": "Python 3 (ipykernel)",
   "language": "python",
   "name": "python3"
  },
  "language_info": {
   "codemirror_mode": {
    "name": "ipython",
    "version": 3
   },
   "file_extension": ".py",
   "mimetype": "text/x-python",
   "name": "python",
   "nbconvert_exporter": "python",
   "pygments_lexer": "ipython3",
   "version": "3.11.6"
  }
 },
 "nbformat": 4,
 "nbformat_minor": 5
}
